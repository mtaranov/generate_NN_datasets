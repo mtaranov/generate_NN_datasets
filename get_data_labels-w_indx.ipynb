{
 "cells": [
  {
   "cell_type": "code",
   "execution_count": 1,
   "metadata": {
    "collapsed": false
   },
   "outputs": [],
   "source": [
    "InteractionsFileCaptureC='/srv/scratch/mtaranov/CaptureC_ChicagoCalls/CaptureC_SC_bait-bait.bed.gz'\n",
    "#InteractionsFileHiC100='/srv/gsfs0/projects/kundaje/users/mtaranov/projects/dynamic3D/ContactsAfterIC/P-P_from_HiC/output/PP_SC_RE100.bed.gz'\n",
    "#InteractionsFileHiC20='/srv/gsfs0/projects/kundaje/users/mtaranov/projects/dynamic3D/ContactsAfterIC/P-P_from_HiC/output/PP_SC_RE20.bed.gz'\n",
    "#InteractionsFileHiC5='/srv/gsfs0/projects/kundaje/users/mtaranov/projects/dynamic3D/ContactsAfterIC/P-P_from_HiC/output/PP_SC_RE5.bed.gz'\n",
    "PromoterFile='/srv/scratch/mtaranov/HindIII/PromoterCapture_Digest_Human_HindIII_baits_ID.bed'\n",
    "PROJDIR='/users/mtaranov/NN_thres1mean_datasets/'\n",
    "DATAJDIR='/users/mtaranov/NN_thres1mean_datasets/dist_matched/'"
   ]
  },
  {
   "cell_type": "code",
   "execution_count": 2,
   "metadata": {
    "collapsed": true
   },
   "outputs": [],
   "source": [
    "features_path='/srv/scratch/mtaranov/peaks_at_promoters/output_thres1_mean/'\n",
    "atac=features_path+'atac'\n",
    "#TFs\n",
    "ctcf=features_path+'CTCF'\n",
    "pol3=features_path+'PolII'\n",
    "TP63=features_path+'TP63'\n",
    "LSD1=features_path+'LSD1'\n",
    "#histone\n",
    "H3K27ac=features_path+'H3K27ac'\n",
    "H3K27me3=features_path+'H3K27me3'\n",
    "H3K4me1=features_path+'H3K4me1'\n",
    "H3K4me3=features_path+'H3K4me3'\n",
    "H3K9ac=features_path+'H3K9ac'"
   ]
  },
  {
   "cell_type": "code",
   "execution_count": 3,
   "metadata": {
    "collapsed": false
   },
   "outputs": [
    {
     "name": "stderr",
     "output_type": "stream",
     "text": [
      "/users/mtaranov/local/anaconda2/lib/python2.7/site-packages/ipykernel/__main__.py:16: DeprecationWarning: the sets module is deprecated\n"
     ]
    }
   ],
   "source": [
    "%matplotlib inline\n",
    "%load_ext autoreload\n",
    "%autoreload 2\n",
    "import sys\n",
    "import numpy as np\n",
    "import matplotlib.pyplot as plt\n",
    "from matplotlib import colors\n",
    "from scipy.stats.mstats import mquantiles\n",
    "import scipy.stats as ss\n",
    "import math\n",
    "import scipy.linalg\n",
    "import itertools\n",
    "import copy\n",
    "import random\n",
    "import gzip\n",
    "from sets import Set\n",
    "#reload(rcca)\n",
    "from sklearn.metrics import roc_auc_score, f1_score, precision_recall_curve, auc, roc_curve\n",
    "from sklearn import preprocessing\n",
    "from scipy.spatial.distance import pdist, squareform\n",
    "import networkx as nx\n",
    "\n",
    "from utils_data_process import printMatrix, set_diag_to_value, binarize, binarize_w_unlabeled, demean, zscore\n",
    "from utils_data_process import shuffle_nodes, train_vali_test, build_distance_for_node, BuildMatrix, get_features\n",
    "from utils_data_process import get_data_labels, remove_unlabeled, concatenate_chrs, get_pairs_distance_matched, impose_dist_constrains, count_nodes_and_contacts"
   ]
  },
  {
   "cell_type": "code",
   "execution_count": null,
   "metadata": {
    "collapsed": false
   },
   "outputs": [
    {
     "name": "stdout",
     "output_type": "stream",
     "text": [
      "non-unique entries in CaptureC file(bait1-bait2/bait2-bait1):  1237741.0   0.49244938606 %\n",
      "unique entries in CaptureC file(bait1-bait2/bait2-bait1):  1275697.0   0.50755061394 %\n"
     ]
    }
   ],
   "source": [
    "labels_score = BuildMatrix(PromoterFile, InteractionsFileCaptureC)"
   ]
  },
  {
   "cell_type": "code",
   "execution_count": null,
   "metadata": {
    "collapsed": false
   },
   "outputs": [
    {
     "name": "stdout",
     "output_type": "stream",
     "text": [
      "46.6549268544\n",
      "(2272, 2272)\n",
      "Limit: 46.6549268544\n"
     ]
    }
   ],
   "source": [
    "printMatrix(labels_score['chr1'], '', 1, 1, title='')"
   ]
  },
  {
   "cell_type": "code",
   "execution_count": null,
   "metadata": {
    "collapsed": false
   },
   "outputs": [],
   "source": [
    "subset=labels_score['chr1'][[i for i in range(300)]][:, [i for i in range(300)]]\n",
    "printMatrix(subset, '', 1, i, title='')"
   ]
  },
  {
   "cell_type": "code",
   "execution_count": null,
   "metadata": {
    "collapsed": false
   },
   "outputs": [],
   "source": [
    "subset=labels_score['chr1'][[i for i in range(300)]][:, [i for i in range(300)]]\n",
    "printMatrix(binarize(subset), '', 1, i, title='')"
   ]
  },
  {
   "cell_type": "code",
   "execution_count": null,
   "metadata": {
    "collapsed": false
   },
   "outputs": [],
   "source": [
    "subset=labels_score['chr1'][[i for i in range(300)]][:, [i for i in range(300)]]\n",
    "printMatrix(binarize_w_unlabeled(subset, 1), '', 1, i, title='')"
   ]
  },
  {
   "cell_type": "code",
   "execution_count": null,
   "metadata": {
    "collapsed": false
   },
   "outputs": [],
   "source": [
    "subset=labels_score['chr1'][[i for i in range(300)]][:, [i for i in range(300)]]\n",
    "printMatrix(binarize_w_unlabeled(subset, 5), '', 1, i, title='')"
   ]
  },
  {
   "cell_type": "code",
   "execution_count": null,
   "metadata": {
    "collapsed": false
   },
   "outputs": [],
   "source": [
    "VectorATAC=get_features(PromoterFile, atac, 'atac')\n",
    "\n",
    "VectorCTCF=get_features(PromoterFile, ctcf, 'ctcf')\n",
    "VectorPOL3=get_features(PromoterFile, pol3, 'pol3')\n",
    "VectorTP63=get_features(PromoterFile, TP63, 'TP63')\n",
    "VectorLSD1=get_features(PromoterFile, LSD1, 'LSD1')\n",
    "\n",
    "VectorH3K27ac=get_features(PromoterFile, H3K27ac, 'H3K27ac')\n",
    "VectorH3K27me3=get_features(PromoterFile, H3K27me3, 'H3K27me3')\n",
    "VectorH3K4me1=get_features(PromoterFile, H3K4me1, 'H3K4me1')\n",
    "VectorH3K4me3=get_features(PromoterFile, H3K4me3, 'H3K4me3')\n",
    "VectorH3K9ac=get_features(PromoterFile, H3K9ac, 'H3K9ac')"
   ]
  },
  {
   "cell_type": "code",
   "execution_count": null,
   "metadata": {
    "collapsed": false
   },
   "outputs": [],
   "source": [
    "distance_for_node = build_distance_for_node(PromoterFile)"
   ]
  },
  {
   "cell_type": "code",
   "execution_count": null,
   "metadata": {
    "collapsed": false
   },
   "outputs": [],
   "source": [
    "FeatureVector_wo_dist = {}\n",
    "FeatureVector = {}\n",
    "for chr in VectorATAC:\n",
    "    if chr != 'chrY':\n",
    "        FeatureVector_wo_dist[chr] = demean(np.vstack((VectorATAC[chr], VectorCTCF[chr], VectorPOL3[chr], VectorTP63[chr], VectorLSD1[chr], VectorH3K27ac[chr], VectorH3K27me3[chr], VectorH3K4me1[chr], VectorH3K4me3[chr], VectorH3K9ac[chr])).T)\n",
    "        FeatureVector[chr] = np.concatenate((FeatureVector_wo_dist[chr], distance_for_node[chr]), axis=1)\n",
    "#FeatureVectorDistance = demean(np.vstack((VectorATAC, VectorCTCF, VectorPOL3, VectorTP63, VectorLSD1, VectorH3K27ac, VectorH3K27me3, VectorH3K4me1, VectorH3K4me3, VectorH3K9ac, distance_for_node)).T)"
   ]
  },
  {
   "cell_type": "code",
   "execution_count": null,
   "metadata": {
    "collapsed": false
   },
   "outputs": [],
   "source": [
    "fig, ax = plt.subplots()\n",
    "heatmap = ax.pcolor(FeatureVector['chr1'], cmap=plt.cm.Blues)\n",
    "#heatmap = ax.pcolor(DistanceFeatureVectorK, cmap=plt.cm.Blues)"
   ]
  },
  {
   "cell_type": "code",
   "execution_count": null,
   "metadata": {
    "collapsed": false
   },
   "outputs": [],
   "source": [
    "data, labels, indx  = get_data_labels(FeatureVector, labels_score)"
   ]
  },
  {
   "cell_type": "code",
   "execution_count": null,
   "metadata": {
    "collapsed": false
   },
   "outputs": [],
   "source": [
    "data_all_chrs, labels_all_chrs, indx_all_chr = concatenate_chrs(data, labels, indx)"
   ]
  },
  {
   "cell_type": "code",
   "execution_count": null,
   "metadata": {
    "collapsed": true
   },
   "outputs": [],
   "source": [
    "data_all_chrs_gt10kb_lt2Mb, labels_all_chrs_gt10kb_lt2Mb, indx_all_chrs_gt10kb_lt2Mb = impose_dist_constrains(data_all_chrs, labels_all_chrs, indx_all_chr, 10000, 2000000)"
   ]
  },
  {
   "cell_type": "code",
   "execution_count": null,
   "metadata": {
    "collapsed": false
   },
   "outputs": [],
   "source": [
    "data_all_chrs_gt10kb_lt2Mb.shape"
   ]
  },
  {
   "cell_type": "code",
   "execution_count": null,
   "metadata": {
    "collapsed": true
   },
   "outputs": [],
   "source": [
    "all_at_0 = binarize_w_unlabeled(labels_all_chrs_gt10kb_lt2Mb, 0)\n",
    "all_at_5 = binarize_w_unlabeled(labels_all_chrs_gt10kb_lt2Mb, 5)\n",
    "all_at_10 = binarize_w_unlabeled(labels_all_chrs_gt10kb_lt2Mb, 10)"
   ]
  },
  {
   "cell_type": "code",
   "execution_count": null,
   "metadata": {
    "collapsed": true
   },
   "outputs": [],
   "source": [
    "# data_all_wo_unlbd_at_0, labels_all_wo_unlbd_at_0 = remove_unlabeled(data_all_chrs_gt10kb_lt2Mb, binarize_w_unlabeled(labels_all_chrs_gt10kb_lt2Mb, 0))\n",
    "# data_all_wo_unlbd_at_3, labels_all_wo_unlbd_at_3 = remove_unlabeled(data_all_chrs_gt10kb_lt2Mb, binarize_w_unlabeled(labels_all_chrs_gt10kb_lt2Mb, 3))\n",
    "# data_all_wo_unlbd_at_5, labels_all_wo_unlbd_at_5 = remove_unlabeled(data_all_chrs_gt10kb_lt2Mb, binarize_w_unlabeled(labels_all_chrs_gt10kb_lt2Mb, 5))"
   ]
  },
  {
   "cell_type": "code",
   "execution_count": null,
   "metadata": {
    "collapsed": true
   },
   "outputs": [],
   "source": [
    "# data_all_wo_unlbd_at_0, labels_all_wo_unlbd_at_0, indx_all_wo_unlbd_at_0 = remove_unlabeled(data_all_chrs, binarize_w_unlabeled(labels_all_chrs, 0), indx_all_chr)\n",
    "# data_all_wo_unlbd_at_3, labels_all_wo_unlbd_at_3, indx_all_wo_unlbd_at_3 = remove_unlabeled(data_all_chrs, binarize_w_unlabeled(labels_all_chrs, 3), indx_all_chr)\n",
    "# data_all_wo_unlbd_at_5, labels_all_wo_unlbd_at_5, indx_all_wo_unlbd_at_5 = remove_unlabeled(data_all_chrs, binarize_w_unlabeled(labels_all_chrs, 5), indx_all_chr)\n",
    "# data_all_wo_unlbd_at_7, labels_all_wo_unlbd_at_7, indx_all_wo_unlbd_at_7 = remove_unlabeled(data_all_chrs, binarize_w_unlabeled(labels_all_chrs, 7), indx_all_chr)\n",
    "data_all_wo_unlbd_at_10, labels_all_wo_unlbd_at_10, indx_all_wo_unlbd_at_10 = remove_unlabeled(data_all_chrs, binarize_w_unlabeled(labels_all_chrs, 10), indx_all_chr)"
   ]
  },
  {
   "cell_type": "code",
   "execution_count": null,
   "metadata": {
    "collapsed": false
   },
   "outputs": [],
   "source": [
    "#train_set_thres_0, vali_set_thres_0, test_set_thres_0, labels_train_thres_0, labels_vali_thres_0, labels_test_thres_0, indx_train_thres_0, indx_vali_thres_0, indx_test_thres_0 =train_vali_test(data_all_wo_unlbd_at_0, labels_all_wo_unlbd_at_0, indx_all_wo_unlbd_at_0, 0.5, 0.3)"
   ]
  },
  {
   "cell_type": "code",
   "execution_count": null,
   "metadata": {
    "collapsed": false
   },
   "outputs": [],
   "source": [
    "#train_set_thres_3, vali_set_thres_3, test_set_thres_3, labels_train_thres_3, labels_vali_thres_3, labels_test_thres_3, indx_train_thres_3, indx_vali_thres_3, indx_test_thres_3 =train_vali_test(data_all_wo_unlbd_at_3, labels_all_wo_unlbd_at_3, indx_all_wo_unlbd_at_3, 0.5, 0.3)"
   ]
  },
  {
   "cell_type": "code",
   "execution_count": null,
   "metadata": {
    "collapsed": false
   },
   "outputs": [],
   "source": [
    "#train_set_thres_5, vali_set_thres_5, test_set_thres_5, labels_train_thres_5, labels_vali_thres_5, labels_test_thres_5, indx_train_thres_5, indx_vali_thres_5, indx_test_thres_5 =train_vali_test(data_all_wo_unlbd_at_5, labels_all_wo_unlbd_at_5, indx_all_wo_unlbd_at_5, 0.5, 0.3)"
   ]
  },
  {
   "cell_type": "code",
   "execution_count": null,
   "metadata": {
    "collapsed": false
   },
   "outputs": [],
   "source": [
    "#train_set_thres_7, vali_set_thres_7, test_set_thres_7, labels_train_thres_7, labels_vali_thres_7, labels_test_thres_7, indx_train_thres_7, indx_vali_thres_7, indx_test_thres_7 =train_vali_test(data_all_wo_unlbd_at_7, labels_all_wo_unlbd_at_7, indx_all_wo_unlbd_at_7, 0.5, 0.3)"
   ]
  },
  {
   "cell_type": "code",
   "execution_count": null,
   "metadata": {
    "collapsed": false
   },
   "outputs": [],
   "source": [
    "train_set_thres_10, vali_set_thres_10, test_set_thres_10, labels_train_thres_10, labels_vali_thres_10, labels_test_thres_10, indx_train_thres_10, indx_vali_thres_10, indx_test_thres_10 =train_vali_test(data_all_wo_unlbd_at_10, labels_all_wo_unlbd_at_10, indx_all_wo_unlbd_at_10, 0.5, 0.3)"
   ]
  },
  {
   "cell_type": "code",
   "execution_count": null,
   "metadata": {
    "collapsed": false
   },
   "outputs": [],
   "source": [
    "# min_dist=10000\n",
    "# max_dist=2000000\n",
    "# dist_step=10000\n",
    "# class_imbalance=1\n",
    "# X_test_distance_matched_at_0, y_test_distance_matched_at_0, indx_test_distance_matched_at_0  = get_pairs_distance_matched(test_set_thres_0, labels_test_thres_0, indx_test_thres_0, min_dist, max_dist, dist_step, class_imbalance)\n",
    "# X_train_distance_matched_at_0, y_train_distance_matched_at_0, indx_train_distance_matched_at_0 = get_pairs_distance_matched(train_set_thres_0, labels_train_thres_0, indx_train_thres_0, min_dist, max_dist, dist_step, class_imbalance)\n",
    "# X_valid_distance_matched_at_0, y_valid_distance_matched_at_0, indx_valid_distance_matched_at_0  = get_pairs_distance_matched(vali_set_thres_0, labels_vali_thres_0, indx_vali_thres_0, min_dist, max_dist, dist_step, class_imbalance)"
   ]
  },
  {
   "cell_type": "code",
   "execution_count": null,
   "metadata": {
    "collapsed": false
   },
   "outputs": [],
   "source": [
    "# min_dist=10000\n",
    "# max_dist=2000000\n",
    "# dist_step=10000\n",
    "# class_imbalance=1\n",
    "# X_test_distance_matched_at_3, y_test_distance_matched_at_3, indx_test_distance_matched_at_3 = get_pairs_distance_matched(test_set_thres_3, labels_test_thres_3, indx_test_thres_3, min_dist, max_dist, dist_step, class_imbalance)\n",
    "# X_train_distance_matched_at_3, y_train_distance_matched_at_3, indx_train_distance_matched_at_3 = get_pairs_distance_matched(train_set_thres_3, labels_train_thres_3, indx_train_thres_3, min_dist, max_dist, dist_step, class_imbalance)\n",
    "# X_valid_distance_matched_at_3, y_valid_distance_matched_at_3, indx_valid_distance_matched_at_3 = get_pairs_distance_matched(vali_set_thres_3, labels_vali_thres_3, indx_vali_thres_3, min_dist, max_dist, dist_step, class_imbalance)"
   ]
  },
  {
   "cell_type": "code",
   "execution_count": null,
   "metadata": {
    "collapsed": false
   },
   "outputs": [],
   "source": [
    "# min_dist=10000\n",
    "# max_dist=2000000\n",
    "# dist_step=10000\n",
    "# class_imbalance=1\n",
    "# X_test_distance_matched_at_5, y_test_distance_matched_at_5, indx_test_distance_matched_at_5 = get_pairs_distance_matched(test_set_thres_5, labels_test_thres_5, indx_test_thres_5, min_dist, max_dist, dist_step, class_imbalance)\n",
    "# X_train_distance_matched_at_5, y_train_distance_matched_at_5, indx_train_distance_matched_at_5 = get_pairs_distance_matched(train_set_thres_5, labels_train_thres_5, indx_train_thres_5, min_dist, max_dist, dist_step, class_imbalance)\n",
    "# X_valid_distance_matched_at_5, y_valid_distance_matched_at_5, indx_valid_distance_matched_at_5 = get_pairs_distance_matched(vali_set_thres_5, labels_vali_thres_5, indx_vali_thres_5, min_dist, max_dist, dist_step, class_imbalance)"
   ]
  },
  {
   "cell_type": "code",
   "execution_count": null,
   "metadata": {
    "collapsed": false
   },
   "outputs": [],
   "source": [
    "# min_dist=10000\n",
    "# max_dist=2000000\n",
    "# dist_step=10000\n",
    "# class_imbalance=1\n",
    "# X_test_distance_matched_at_7, y_test_distance_matched_at_7, indx_test_distance_matched_at_7 = get_pairs_distance_matched(test_set_thres_7, labels_test_thres_7, indx_test_thres_7, min_dist, max_dist, dist_step, class_imbalance)\n",
    "# X_train_distance_matched_at_7, y_train_distance_matched_at_7, indx_train_distance_matched_at_7 = get_pairs_distance_matched(train_set_thres_7, labels_train_thres_7, indx_train_thres_7, min_dist, max_dist, dist_step, class_imbalance)\n",
    "# X_valid_distance_matched_at_7, y_valid_distance_matched_at_7, indx_valid_distance_matched_at_7 = get_pairs_distance_matched(vali_set_thres_7, labels_vali_thres_7, indx_vali_thres_7, min_dist, max_dist, dist_step, class_imbalance)"
   ]
  },
  {
   "cell_type": "code",
   "execution_count": null,
   "metadata": {
    "collapsed": false
   },
   "outputs": [],
   "source": [
    "min_dist=10000\n",
    "max_dist=2000000\n",
    "dist_step=10000\n",
    "class_imbalance=1\n",
    "X_test_distance_matched_at_10, y_test_distance_matched_at_10, indx_test_distance_matched_at_10 = get_pairs_distance_matched(test_set_thres_10, labels_test_thres_10, indx_test_thres_10, min_dist, max_dist, dist_step, class_imbalance)\n",
    "X_train_distance_matched_at_10, y_train_distance_matched_at_10, indx_train_distance_matched_at_10 = get_pairs_distance_matched(train_set_thres_10, labels_train_thres_10, indx_train_thres_10, min_dist, max_dist, dist_step, class_imbalance)\n",
    "X_valid_distance_matched_at_10, y_valid_distance_matched_at_10, indx_valid_distance_matched_at_10 = get_pairs_distance_matched(vali_set_thres_10, labels_vali_thres_10, indx_vali_thres_10, min_dist, max_dist, dist_step, class_imbalance)"
   ]
  },
  {
   "cell_type": "code",
   "execution_count": null,
   "metadata": {
    "collapsed": false
   },
   "outputs": [],
   "source": [
    "# print \"in all chrs:\"\n",
    "# y_at_0=np.concatenate((y_train_distance_matched_at_0, y_valid_distance_matched_at_0, y_test_distance_matched_at_0), axis=0)\n",
    "# print \"pos at thres=0: \", np.where(y_at_0 > 0)[0].shape[0]\n",
    "# print \"neg at thres=0: \", np.where(y_at_0 == 0)[0].shape[0]\n",
    "# print \"total: \", y_at_0.shape[0]"
   ]
  },
  {
   "cell_type": "code",
   "execution_count": null,
   "metadata": {
    "collapsed": false
   },
   "outputs": [],
   "source": [
    "# print \"in all chrs:\"\n",
    "# y_at_3=np.concatenate((y_train_distance_matched_at_3, y_valid_distance_matched_at_3, y_test_distance_matched_at_3), axis=0)\n",
    "# print \"pos at thres=0: \", np.where(y_at_3 > 0)[0].shape[0]\n",
    "# print \"neg at thres=0: \", np.where(y_at_3 == 0)[0].shape[0]\n",
    "# print \"total: \", y_at_3.shape[0]"
   ]
  },
  {
   "cell_type": "code",
   "execution_count": null,
   "metadata": {
    "collapsed": false
   },
   "outputs": [],
   "source": [
    "# print \"in all chrs:\"\n",
    "# y_at_5=np.concatenate((y_train_distance_matched_at_5, y_valid_distance_matched_at_5, y_test_distance_matched_at_5), axis=0)\n",
    "# print \"pos at thres=0: \", np.where(y_at_5 > 0)[0].shape[0]\n",
    "# print \"neg at thres=0: \", np.where(y_at_5 == 0)[0].shape[0]\n",
    "# print \"total: \", y_at_5.shape[0]"
   ]
  },
  {
   "cell_type": "code",
   "execution_count": null,
   "metadata": {
    "collapsed": false
   },
   "outputs": [],
   "source": [
    "# print \"in all chrs:\"\n",
    "# y_at_7=np.concatenate((y_train_distance_matched_at_7, y_valid_distance_matched_at_10, y_test_distance_matched_at_7), axis=0)\n",
    "# print \"pos at thres=10: \", np.where(y_at_7 > 0)[0].shape[0], \" | train: \", np.where(y_train_distance_matched_at_7 > 0)[0].shape[0], \"vali:\",np.where(y_valid_distance_matched_at_7 > 0)[0].shape[0], \"test:\",np.where(y_test_distance_matched_at_7 > 0)[0].shape[0] \n",
    "# print \"neg at thres=10: \", np.where(y_at_7 == 0)[0].shape[0], \" | train: \", np.where(y_train_distance_matched_at_7 == 0)[0].shape[0], \"vali:\",np.where(y_valid_distance_matched_at_7 == 0)[0].shape[0], \"test:\",np.where(y_test_distance_matched_at_7 == 0)[0].shape[0]\n",
    "# print \"total: \", y_at_7.shape[0]"
   ]
  },
  {
   "cell_type": "code",
   "execution_count": null,
   "metadata": {
    "collapsed": false
   },
   "outputs": [],
   "source": [
    "print \"in all chrs:\"\n",
    "y_at_10=np.concatenate((y_train_distance_matched_at_10, y_valid_distance_matched_at_10, y_test_distance_matched_at_10), axis=0)\n",
    "print \"pos at thres=10: \", np.where(y_at_10 > 0)[0].shape[0], \" | train: \", np.where(y_train_distance_matched_at_10 > 0)[0].shape[0], \"vali:\",np.where(y_valid_distance_matched_at_10 > 0)[0].shape[0], \"test:\",np.where(y_test_distance_matched_at_10 > 0)[0].shape[0] \n",
    "print \"neg at thres=10: \", np.where(y_at_10 == 0)[0].shape[0], \" | train: \", np.where(y_train_distance_matched_at_10 == 0)[0].shape[0], \"vali:\",np.where(y_valid_distance_matched_at_10 == 0)[0].shape[0], \"test:\",np.where(y_test_distance_matched_at_10 == 0)[0].shape[0]\n",
    "print \"total: \", y_at_10.shape[0]"
   ]
  },
  {
   "cell_type": "code",
   "execution_count": null,
   "metadata": {
    "collapsed": false
   },
   "outputs": [],
   "source": [
    "#count_nodes_and_contacts(indx_train_distance_matched_at_0, indx_valid_distance_matched_at_0, indx_test_distance_matched_at_0)"
   ]
  },
  {
   "cell_type": "code",
   "execution_count": null,
   "metadata": {
    "collapsed": false
   },
   "outputs": [],
   "source": [
    "#count_nodes_and_contacts(indx_train_distance_matched_at_3, indx_valid_distance_matched_at_3, indx_test_distance_matched_at_3)"
   ]
  },
  {
   "cell_type": "code",
   "execution_count": null,
   "metadata": {
    "collapsed": false
   },
   "outputs": [],
   "source": [
    "#count_nodes_and_contacts(indx_train_distance_matched_at_5, indx_valid_distance_matched_at_5, indx_test_distance_matched_at_5)"
   ]
  },
  {
   "cell_type": "code",
   "execution_count": null,
   "metadata": {
    "collapsed": false
   },
   "outputs": [],
   "source": [
    "#count_nodes_and_contacts(indx_train_distance_matched_at_7, indx_valid_distance_matched_at_7, indx_test_distance_matched_at_7)"
   ]
  },
  {
   "cell_type": "code",
   "execution_count": null,
   "metadata": {
    "collapsed": false
   },
   "outputs": [],
   "source": [
    "count_nodes_and_contacts(indx_train_distance_matched_at_10, indx_valid_distance_matched_at_10, indx_test_distance_matched_at_10)"
   ]
  },
  {
   "cell_type": "code",
   "execution_count": null,
   "metadata": {
    "collapsed": false
   },
   "outputs": [],
   "source": [
    "# np.save(DATAJDIR+'X_train_thres_10_maxij.npy', X_train_distance_matched_at_10) \n",
    "# np.save(DATAJDIR+'X_valid_thres_10_maxij.npy', X_valid_distance_matched_at_10) \n",
    "# np.save(DATAJDIR+'X_test_thres_10_maxij.npy', X_test_distance_matched_at_10) \n",
    "# np.save(DATAJDIR+'y_train_thres_10_maxij.npy', y_train_distance_matched_at_10)\n",
    "# np.save(DATAJDIR+'y_valid_thres_10_maxij.npy', y_valid_distance_matched_at_10)\n",
    "# np.save(DATAJDIR+'y_test_thres_10_maxij.npy', y_test_distance_matched_at_10)"
   ]
  },
  {
   "cell_type": "code",
   "execution_count": null,
   "metadata": {
    "collapsed": false
   },
   "outputs": [],
   "source": [
    "# np.save(DATAJDIR+'X_train_thres_0.npy', X_train_distance_matched_at_0) \n",
    "# np.save(DATAJDIR+'X_valid_thres_0.npy', X_valid_distance_matched_at_0) \n",
    "# np.save(DATAJDIR+'X_test_thres_0.npy', X_test_distance_matched_at_0) \n",
    "# np.save(DATAJDIR+'y_train_thres_0.npy', y_train_distance_matched_at_0)\n",
    "# np.save(DATAJDIR+'y_valid_thres_0.npy', y_valid_distance_matched_at_0)\n",
    "# np.save(DATAJDIR+'y_test_thres_0.npy', y_test_distance_matched_at_0)\n",
    "# np.save(DATAJDIR+'indx_train_thres_0.npy', indx_train_distance_matched_at_0)\n",
    "# np.save(DATAJDIR+'indx_valid_thres_0.npy', indx_valid_distance_matched_at_0)\n",
    "# np.save(DATAJDIR+'indx_test_thres_0.npy', indx_test_distance_matched_at_0)\n",
    "\n",
    "# np.save(DATAJDIR+'X_train_thres_3.npy', X_train_distance_matched_at_3) \n",
    "# np.save(DATAJDIR+'X_valid_thres_3.npy', X_valid_distance_matched_at_3) \n",
    "# np.save(DATAJDIR+'X_test_thres_3.npy', X_test_distance_matched_at_3) \n",
    "# np.save(DATAJDIR+'y_train_thres_3.npy', y_train_distance_matched_at_3)\n",
    "# np.save(DATAJDIR+'y_valid_thres_3.npy', y_valid_distance_matched_at_3)\n",
    "# np.save(DATAJDIR+'y_test_thres_3.npy', y_test_distance_matched_at_3)\n",
    "# np.save(DATAJDIR+'indx_train_thres_3.npy', indx_train_distance_matched_at_3)\n",
    "# np.save(DATAJDIR+'indx_valid_thres_3.npy', indx_valid_distance_matched_at_3)\n",
    "# np.save(DATAJDIR+'indx_test_thres_3.npy', indx_test_distance_matched_at_3)\n",
    "\n",
    "# np.save(DATAJDIR+'X_train_thres_5.npy', X_train_distance_matched_at_5) \n",
    "# np.save(DATAJDIR+'X_valid_thres_5.npy', X_valid_distance_matched_at_5) \n",
    "# np.save(DATAJDIR+'X_test_thres_5.npy', X_test_distance_matched_at_5) \n",
    "# np.save(DATAJDIR+'y_train_thres_5.npy', y_train_distance_matched_at_5)\n",
    "# np.save(DATAJDIR+'y_valid_thres_5.npy', y_valid_distance_matched_at_5)\n",
    "# np.save(DATAJDIR+'y_test_thres_5.npy', y_test_distance_matched_at_5)\n",
    "# np.save(DATAJDIR+'indx_train_thres_5.npy', indx_train_distance_matched_at_5)\n",
    "# np.save(DATAJDIR+'indx_valid_thres_5.npy', indx_valid_distance_matched_at_5)\n",
    "# np.save(DATAJDIR+'indx_test_thres_5.npy', indx_test_distance_matched_at_5)\n",
    "\n",
    "# np.save(DATAJDIR+'X_train_thres_7.npy', X_train_distance_matched_at_7) \n",
    "# np.save(DATAJDIR+'X_valid_thres_7.npy', X_valid_distance_matched_at_7) \n",
    "# np.save(DATAJDIR+'X_test_thres_7.npy', X_test_distance_matched_at_7) \n",
    "# np.save(DATAJDIR+'y_train_thres_7.npy', y_train_distance_matched_at_7)\n",
    "# np.save(DATAJDIR+'y_valid_thres_7.npy', y_valid_distance_matched_at_7)\n",
    "# np.save(DATAJDIR+'y_test_thres_7.npy', y_test_distance_matched_at_7)\n",
    "# np.save(DATAJDIR+'indx_train_thres_7.npy', indx_train_distance_matched_at_7)\n",
    "# np.save(DATAJDIR+'indx_valid_thres_7.npy', indx_valid_distance_matched_at_7)\n",
    "# np.save(DATAJDIR+'indx_test_thres_7.npy', indx_test_distance_matched_at_7)\n",
    "\n",
    "\n",
    "np.save(DATAJDIR+'X_train_thres_10.npy', X_train_distance_matched_at_10) \n",
    "np.save(DATAJDIR+'X_valid_thres_10.npy', X_valid_distance_matched_at_10) \n",
    "np.save(DATAJDIR+'X_test_thres_10.npy', X_test_distance_matched_at_10) \n",
    "np.save(DATAJDIR+'y_train_thres_10.npy', y_train_distance_matched_at_10)\n",
    "np.save(DATAJDIR+'y_valid_thres_10.npy', y_valid_distance_matched_at_10)\n",
    "np.save(DATAJDIR+'y_test_thres_10.npy', y_test_distance_matched_at_10)\n",
    "np.save(DATAJDIR+'indx_train_thres_10.npy', indx_train_distance_matched_at_10)\n",
    "np.save(DATAJDIR+'indx_valid_thres_10.npy', indx_valid_distance_matched_at_10)\n",
    "np.save(DATAJDIR+'indx_test_thres_10.npy', indx_test_distance_matched_at_10)\n",
    "#d = np.load('labels_test_all.npy')"
   ]
  },
  {
   "cell_type": "code",
   "execution_count": null,
   "metadata": {
    "collapsed": true
   },
   "outputs": [],
   "source": []
  }
 ],
 "metadata": {
  "anaconda-cloud": {},
  "kernelspec": {
   "display_name": "Python [default]",
   "language": "python",
   "name": "python2"
  },
  "language_info": {
   "codemirror_mode": {
    "name": "ipython",
    "version": 2
   },
   "file_extension": ".py",
   "mimetype": "text/x-python",
   "name": "python",
   "nbconvert_exporter": "python",
   "pygments_lexer": "ipython2",
   "version": "2.7.12"
  }
 },
 "nbformat": 4,
 "nbformat_minor": 0
}
