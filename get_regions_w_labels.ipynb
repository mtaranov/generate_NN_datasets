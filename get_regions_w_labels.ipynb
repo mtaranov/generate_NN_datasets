{
 "cells": [
  {
   "cell_type": "code",
   "execution_count": 95,
   "metadata": {
    "collapsed": false
   },
   "outputs": [],
   "source": [
    "InteractionsFileCaptureC='/srv/scratch/mtaranov/CaptureC_ChicagoCalls/CaptureC_SC_bait-bait.bed.gz'\n",
    "PROJDIR='/users/mtaranov/NN_thres5max_datasets/'\n",
    "DATAJDIR='/users/mtaranov/NN_thres5max_datasets/dist_matched/regions/'"
   ]
  },
  {
   "cell_type": "code",
   "execution_count": 5,
   "metadata": {
    "collapsed": false
   },
   "outputs": [
    {
     "name": "stdout",
     "output_type": "stream",
     "text": [
      "The autoreload extension is already loaded. To reload it, use:\n",
      "  %reload_ext autoreload\n"
     ]
    }
   ],
   "source": [
    "%matplotlib inline\n",
    "%load_ext autoreload\n",
    "%autoreload 2\n",
    "import sys\n",
    "import numpy as np\n",
    "import matplotlib.pyplot as plt\n",
    "from matplotlib import colors\n",
    "from scipy.stats.mstats import mquantiles\n",
    "import scipy.stats as ss\n",
    "import math\n",
    "import scipy.linalg\n",
    "import itertools\n",
    "import copy\n",
    "import random\n",
    "import gzip\n",
    "from sets import Set"
   ]
  },
  {
   "cell_type": "code",
   "execution_count": 14,
   "metadata": {
    "collapsed": false
   },
   "outputs": [],
   "source": [
    "y_train=np.load(DATAJDIR+'y_train_thres_10.npy')\n",
    "y_valid=np.load(DATAJDIR+'y_valid_thres_10.npy')\n",
    "y_test=np.load(DATAJDIR+'y_test_thres_10.npy')\n",
    "X_train=np.load(DATAJDIR+'X_train_thres_10.npy')\n",
    "X_valid=np.load(DATAJDIR+'X_valid_thres_10.npy')\n",
    "X_test=np.load(DATAJDIR+'X_test_thres_10.npy')\n",
    "indx_train=np.load(DATAJDIR+'indx_train_thres_10.npy')\n",
    "indx_valid=np.load(DATAJDIR+'indx_valid_thres_10.npy')\n",
    "indx_test=np.load(DATAJDIR+'indx_test_thres_10.npy')"
   ]
  },
  {
   "cell_type": "code",
   "execution_count": 16,
   "metadata": {
    "collapsed": true
   },
   "outputs": [],
   "source": [
    "y_train=np.concatenate((y_train, y_valid), axis=0)\n",
    "X_train=np.concatenate((X_train, X_valid), axis=0)\n",
    "indx_train=np.concatenate((indx_train, indx_valid), axis=0)"
   ]
  },
  {
   "cell_type": "code",
   "execution_count": 85,
   "metadata": {
    "collapsed": false
   },
   "outputs": [],
   "source": [
    "site1_train=(np.vstack((indx_train[:,2].astype(int), X_train[:, 10, 0]-2500, X_train[:, 10, 0]+2500)).astype(int).astype(str)).T\n",
    "site2_train=(np.vstack((indx_train[:,2].astype(int), X_train[:, 10, 1]-2500, X_train[:, 10, 1]+2500)).astype(int).astype(str)).T\n",
    "site1_test=(np.vstack((indx_test[:,2].astype(int), X_test[:, 10, 0]-2500, X_test[:, 10, 0]+2500)).astype(int).astype(str)).T\n",
    "site2_test=(np.vstack((indx_test[:,2].astype(int), X_test[:, 10, 1]-2500, X_test[:, 10, 1]+2500)).astype(int).astype(str)).T"
   ]
  },
  {
   "cell_type": "code",
   "execution_count": 87,
   "metadata": {
    "collapsed": false
   },
   "outputs": [],
   "source": [
    "for site in [site1_train, site2_train, site1_test, site2_test]:\n",
    "    for i in range(site.shape[0]):\n",
    "        if site[i,0]=='23':\n",
    "            site[i,0]='chrX'\n",
    "        else:\n",
    "            site[i,0]='chr'+site[i,0]"
   ]
  },
  {
   "cell_type": "code",
   "execution_count": 94,
   "metadata": {
    "collapsed": true
   },
   "outputs": [],
   "source": [
    "np.savetxt(DATAJDIR+'/site1_train_dist_matched_thres10.bed', site1_train, delimiter=\"\\t\", fmt=\"%s\")\n",
    "np.savetxt(DATAJDIR+'/site1_test_dist_matched_thres10.bed', site1_test, delimiter=\"\\t\", fmt=\"%s\")\n",
    "np.savetxt(DATAJDIR+'/site2_train_dist_matched_thres10.bed', site2_train, delimiter=\"\\t\", fmt=\"%s\")\n",
    "np.savetxt(DATAJDIR+'/site2_test_dist_matched_thres10.bed', site2_test, delimiter=\"\\t\", fmt=\"%s\")                                                                                                         "
   ]
  },
  {
   "cell_type": "code",
   "execution_count": 97,
   "metadata": {
    "collapsed": true
   },
   "outputs": [],
   "source": [
    "np.save(DATAJDIR+'/labels_train_dist_matched_thres10.npy', y_train)\n",
    "np.save(DATAJDIR+'/labels_test_dist_matched_thres10.npy', y_test)            "
   ]
  },
  {
   "cell_type": "code",
   "execution_count": null,
   "metadata": {
    "collapsed": true
   },
   "outputs": [],
   "source": []
  }
 ],
 "metadata": {
  "anaconda-cloud": {},
  "kernelspec": {
   "display_name": "Python [default]",
   "language": "python",
   "name": "python2"
  },
  "language_info": {
   "codemirror_mode": {
    "name": "ipython",
    "version": 2
   },
   "file_extension": ".py",
   "mimetype": "text/x-python",
   "name": "python",
   "nbconvert_exporter": "python",
   "pygments_lexer": "ipython2",
   "version": "2.7.12"
  }
 },
 "nbformat": 4,
 "nbformat_minor": 0
}
