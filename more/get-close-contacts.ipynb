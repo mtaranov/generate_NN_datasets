{
 "cells": [
  {
   "cell_type": "code",
   "execution_count": 1,
   "metadata": {
    "collapsed": false
   },
   "outputs": [],
   "source": [
    "%matplotlib inline\n",
    "%load_ext autoreload\n",
    "%autoreload 2\n",
    "\n",
    "import numpy as np"
   ]
  },
  {
   "cell_type": "code",
   "execution_count": 2,
   "metadata": {
    "collapsed": false
   },
   "outputs": [],
   "source": [
    "X_train = np.load('/users/mtaranov/NN_all_data/train_set_upperTriangle_noDiag_reads.npy')\n",
    "y_train = np.load('/users/mtaranov/NN_all_data/labels_train_upperTriangle_noDiag.npy')\n",
    "X_valid = np.load('/users/mtaranov/NN_all_data/vali_set_upperTriangle_noDiag_reads.npy')\n",
    "y_valid = np.load('/users/mtaranov/NN_all_data/labels_vali_upperTriangle_noDiag.npy')\n",
    "X_test = np.load('/users/mtaranov/NN_all_data/test_set_upperTriangle_noDiag_reads.npy')\n",
    "y_test = np.load('/users/mtaranov/NN_all_data/labels_test_upperTriangle_noDiag.npy')\n",
    "indx_train = np.load('/users/mtaranov/NN_all_data/indx_train_upperTriangle_noDiag.npy')\n",
    "indx_valid = np.load('/users/mtaranov/NN_all_data/indx_vali_upperTriangle_noDiag.npy')\n",
    "indx_test = np.load('/users/mtaranov/NN_all_data/indx_test_upperTriangle_noDiag.npy')                                                                            "
   ]
  },
  {
   "cell_type": "code",
   "execution_count": 3,
   "metadata": {
    "collapsed": false
   },
   "outputs": [],
   "source": [
    "def get_pairs_less_than_dist(X, y, indx, thres):\n",
    "    indx2 = np.where(X[:, 10, 0] - X[:, 10, 1] <= thres)\n",
    "    return X[indx2], y[indx2], indx[indx2]"
   ]
  },
  {
   "cell_type": "code",
   "execution_count": 6,
   "metadata": {
    "collapsed": false
   },
   "outputs": [],
   "source": [
    "thres=5000000\n",
    "X_train_new, y_train_new, indx_train_new = get_pairs_less_than_dist(X_train, y_train, indx_train, thres)\n",
    "X_valid_new, y_valid_new, indx_valid_new = get_pairs_less_than_dist(X_valid, y_valid, indx_valid, thres)\n",
    "X_test_new, y_test_new, indx_test_new = get_pairs_less_than_dist(X_test, y_test, indx_test, thres)"
   ]
  },
  {
   "cell_type": "code",
   "execution_count": 7,
   "metadata": {
    "collapsed": true
   },
   "outputs": [],
   "source": [
    "np.save('/users/mtaranov/NN_all_data/less_than_1Mb/train_set_upperTriangle_noDiag_reads_less_5Mb.npy', X_train_new)\n",
    "np.save('/users/mtaranov/NN_all_data/less_than_1Mb/vali_set_upperTriangle_noDiag_reads_less_5Mb.npy', X_valid_new)\n",
    "np.save('/users/mtaranov/NN_all_data/less_than_1Mb/test_set_upperTriangle_noDiag_reads_less_5Mb.npy', X_test_new)\n",
    "\n",
    "np.save('/users/mtaranov/NN_all_data/less_than_1Mb/labels_train_upperTriangle_noDiag_reads_less_5Mb.npy', y_train_new)\n",
    "np.save('/users/mtaranov/NN_all_data/less_than_1Mb/labels_vali_upperTriangle_noDiag_reads_less_5Mb.npy', y_valid_new)\n",
    "np.save('/users/mtaranov/NN_all_data/less_than_1Mb/labels_test_upperTriangle_noDiag_reads_less_5Mb.npy', y_test_new)\n",
    "\n",
    "np.save('/users/mtaranov/NN_all_data/less_than_1Mb/indx_train_upperTriangle_noDiag_reads_less_5Mb.npy', indx_train_new)\n",
    "np.save('/users/mtaranov/NN_all_data/less_than_1Mb/indx_vali_upperTriangle_noDiag_reads_less_5Mb.npy', indx_train_new)\n",
    "np.save('/users/mtaranov/NN_all_data/less_than_1Mb/indx_test_upperTriangle_noDiag_reads_less_5Mb.npy', indx_train_new)\n"
   ]
  },
  {
   "cell_type": "code",
   "execution_count": null,
   "metadata": {
    "collapsed": true
   },
   "outputs": [],
   "source": []
  }
 ],
 "metadata": {
  "kernelspec": {
   "display_name": "Python 2",
   "language": "python",
   "name": "python2"
  },
  "language_info": {
   "codemirror_mode": {
    "name": "ipython",
    "version": 2
   },
   "file_extension": ".py",
   "mimetype": "text/x-python",
   "name": "python",
   "nbconvert_exporter": "python",
   "pygments_lexer": "ipython2",
   "version": "2.7.11"
  }
 },
 "nbformat": 4,
 "nbformat_minor": 0
}
