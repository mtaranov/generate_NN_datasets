{
 "cells": [
  {
   "cell_type": "code",
   "execution_count": 17,
   "metadata": {
    "collapsed": true
   },
   "outputs": [],
   "source": [
    "InteractionsFileCaptureC='/srv/gsfs0/projects/kundaje/users/mtaranov/projects/dynamic3D/ContactsAfterIC/ChiCAGO_Calls_Adam/analysis/Chicago/CaptureC_SC_bait-bait.bed.gz'\n",
    "#InteractionsFileHiC100='/srv/gsfs0/projects/kundaje/users/mtaranov/projects/dynamic3D/ContactsAfterIC/P-P_from_HiC/output/PP_SC_RE100.bed.gz'\n",
    "#InteractionsFileHiC20='/srv/gsfs0/projects/kundaje/users/mtaranov/projects/dynamic3D/ContactsAfterIC/P-P_from_HiC/output/PP_SC_RE20.bed.gz'\n",
    "#InteractionsFileHiC5='/srv/gsfs0/projects/kundaje/users/mtaranov/projects/dynamic3D/ContactsAfterIC/P-P_from_HiC/output/PP_SC_RE5.bed.gz'\n",
    "PromoterFile='/srv/gsfs0/projects/kundaje/users/mtaranov/projects/dynamic3D/FIT-HI-C/promoters_flexible_repl_combined/data/reference_genomes/hg19/PromoterCapture_Digest_Human_HindIII_baits_ID.bed'\n",
    "PROJDIR='/srv/gsfs0/projects/kundaje/users/mtaranov/projects/dynamic3D/ContactsAfterIC/kCCA'"
   ]
  },
  {
   "cell_type": "code",
   "execution_count": 18,
   "metadata": {
    "collapsed": false
   },
   "outputs": [],
   "source": [
    "features_path='/srv/gsfs0/projects/kundaje/users/mtaranov/projects/dynamic3D/ContactsAfterIC/peaks_at_promoters/output_thres5_max/'\n",
    "atac=features_path+'atac.gz'\n",
    "#TFs\n",
    "ctcf=features_path+'CTCF.gz'\n",
    "pol3=features_path+'PolII.gz'\n",
    "TP63=features_path+'TP63.gz'\n",
    "LSD1=features_path+'LSD1.gz'\n",
    "#histone\n",
    "H3K27ac=features_path+'H3K27ac.gz'\n",
    "H3K27me3=features_path+'H3K27me3.gz'\n",
    "H3K4me1=features_path+'H3K4me1.gz'\n",
    "H3K4me3=features_path+'H3K4me3.gz'\n",
    "H3K9ac=features_path+'H3K9ac.gz'"
   ]
  },
  {
   "cell_type": "code",
   "execution_count": 19,
   "metadata": {
    "collapsed": false
   },
   "outputs": [],
   "source": [
    "%matplotlib inline\n",
    "import sys\n",
    "import numpy as np\n",
    "import matplotlib.pyplot as plt\n",
    "from matplotlib import colors\n",
    "from scipy.stats.mstats import mquantiles\n",
    "import scipy.stats as ss\n",
    "import math\n",
    "import scipy.linalg\n",
    "import itertools\n",
    "import copy\n",
    "import random\n",
    "import gzip\n",
    "import testCrossValiFeatures as rcca\n",
    "reload(rcca)\n",
    "\n",
    "from sklearn.metrics import roc_auc_score, f1_score, precision_recall_curve, auc, roc_curve\n",
    "from sklearn import preprocessing\n",
    "from scipy.spatial.distance import pdist, squareform\n",
    "import networkx as nx"
   ]
  },
  {
   "cell_type": "code",
   "execution_count": 20,
   "metadata": {
    "collapsed": false
   },
   "outputs": [],
   "source": [
    "# builds adjacency matrix \n",
    "def BuildMatrixA(PromoterFile, InteractionsFile, datatype):\n",
    "\n",
    "    REFrag_dict={}\n",
    "    index=0\n",
    "    # Assign indices to all promoter HindIII sites.\n",
    "    for line in open(PromoterFile,'r'):\n",
    "        words=line.rstrip().split()\n",
    "        key=(words[0], words[1], words[2])\n",
    "        if words[0] in ['chr1']: # only chr1\n",
    "           REFrag_dict[key]=index\n",
    "           index+=1\n",
    "\n",
    "    # Initialize matrix (promoter x promoter)\n",
    "    PPMatrix=np.zeros((len(REFrag_dict), len(REFrag_dict))) #  number of promoters in chr 1\n",
    "\n",
    "    # Fill (promoter x promoter) matrix with q-values of promoter-promoter interaction\n",
    "    max_score=0\n",
    "    for line in gzip.open(InteractionsFile,'r'):\n",
    "        words=line.rstrip().split()\n",
    "            \n",
    "    for line in gzip.open(InteractionsFile,'r'):\n",
    "        words=line.rstrip().split()\n",
    "        if words[0] in ['chr1']: #only chr1\n",
    "            i=REFrag_dict[(words[0], words[1], words[2])]\n",
    "            j=REFrag_dict[(words[3], words[4], words[5])]\n",
    "\n",
    "\n",
    "            q_values=float(words[6])  # for CaptureC\n",
    "            if PPMatrix[i,j] != 0:\n",
    "                PPMatrix[i,j]=PPMatrix[i,j]/2+q_values/2\n",
    "                PPMatrix[j,i]=PPMatrix[j,i]/2+q_values/2\n",
    "            else:\n",
    "                PPMatrix[i,j]=q_values\n",
    "                PPMatrix[j,i]=q_values\n",
    "                    # take -1*log(Q) for non-zero entries\n",
    "    #mask = PPMatrix != 0\n",
    "    #PPMatrix[mask] = np.log10(PPMatrix[mask])*(-1)\n",
    "\n",
    "    # list of non-zero q-values\n",
    "    q_values=list(filter((0.0).__ne__,list(itertools.chain.from_iterable(np.array(PPMatrix).tolist()))))\n",
    "\n",
    "    # Some tests:\n",
    "    print \"Some tests on adjacency matrix:\"\n",
    "    # 1. Check if the matrix is symmetric:\n",
    "    if (PPMatrix.transpose() == PPMatrix).all() == True:\n",
    "        print \"Adjacency matrix is symmetric\"\n",
    "    # 2. Print out average q-values:\n",
    "    print \"Average q-value with zeros: \", str(np.average(PPMatrix))\n",
    "    print \"Average q-value w/o zeros: \", np.mean(q_values)\n",
    "\n",
    "    # Print distribution of q-values\n",
    "    plt.hist(q_values)\n",
    "    plt.show()\n",
    "\n",
    "    return PPMatrix"
   ]
  },
  {
   "cell_type": "code",
   "execution_count": 21,
   "metadata": {
    "collapsed": false
   },
   "outputs": [],
   "source": [
    "def printMatrix(Matrix, ylabel, QuantileValue, LowerUpperLimit, title=''):\n",
    "    #vmaxLim=mquantiles(Matrix,[0.99])[0]\n",
    "    Lim=mquantiles(Matrix,[QuantileValue])[0]\n",
    "    print Matrix.max()\n",
    "    print np.shape(Matrix)\n",
    "    print \"Limit:\", Lim\n",
    "    fig, ax = plt.subplots()\n",
    "    fig.subplots_adjust(top=0.8)\n",
    "    if LowerUpperLimit == 'lower':\n",
    "        m = ax.matshow(Matrix, origin=\"bottom\", #norm=colors.LogNorm(),  #norm=colors.SymLogNorm(1),\n",
    "               cmap=\"RdYlBu_r\", vmin=Lim)\n",
    "    else:\n",
    "        m = ax.matshow(Matrix, origin=\"bottom\", #norm=colors.LogNorm(),  #norm=colors.SymLogNorm(1),\n",
    "               cmap=\"RdYlBu_r\", vmax=Lim) # cmap=\"RdYlBu_r\"\n",
    "\n",
    "\n",
    "    ax.axhline(-0.5, color=\"#000000\", linewidth=1, linestyle=\"--\")\n",
    "    ax.axvline(-0.5, color=\"#000000\", linewidth=1, linestyle=\"--\")\n",
    "\n",
    "    cb = fig.colorbar(m)\n",
    "    cb.set_label(ylabel)\n",
    "\n",
    "    ax.set_ylim((-0.5, len(Matrix) - 0.5))\n",
    "    ax.set_xlim((-0.5, len(Matrix) - 0.5))\n",
    "    \n",
    "    plt.title(title)\n",
    "    plt.show()\n",
    "    return\n"
   ]
  },
  {
   "cell_type": "code",
   "execution_count": 22,
   "metadata": {
    "collapsed": true
   },
   "outputs": [],
   "source": [
    "# builds feature vector \n",
    "def BuildFeatureVector(PromoterFile, FeatureVectorFile, dataName):\n",
    "\n",
    "    REFrag_dict={}\n",
    "    index=0\n",
    "    # Assign indices to all promoter HindIII sites.\n",
    "    for line in open(PromoterFile,'r'):\n",
    "        words=line.rstrip().split()\n",
    "        key=(words[0], words[1], words[2])\n",
    "        if words[0] in ['chr1']: # only chr1\n",
    "           REFrag_dict[key]=index\n",
    "           index+=1\n",
    "\n",
    "    # Initialize vector (promoters only)\n",
    "    vector=np.zeros((len(REFrag_dict),)) #  number of promoters in chr 1\n",
    "\n",
    "    for line in gzip.open(FeatureVectorFile,'r'):\n",
    "        words=line.rstrip().split()\n",
    "        if words[0] in ['chr1']: #only chr1\n",
    "            value=words[3]\n",
    "            i=REFrag_dict[(words[0], words[1], words[2])]\n",
    "            vector[i]=value\n",
    "\n",
    "    # list of non-zero q-values\n",
    "    nonzero_values=filter(lambda a: a != 0, np.array(vector).reshape(-1,).tolist())\n",
    "\n",
    "    # Print out average q-values:\n",
    "    print \"Average value with zeros: \", str(np.average(vector))\n",
    "    print \"Average q-value w/o zeros: \", np.mean(nonzero_values)\n",
    "\n",
    "    # Print distribution of q-values\n",
    "    plt.hist(vector)\n",
    "    plt.title(str(dataName))\n",
    "    plt.show()\n",
    "\n",
    "    return vector"
   ]
  },
  {
   "cell_type": "code",
   "execution_count": 23,
   "metadata": {
    "collapsed": true
   },
   "outputs": [],
   "source": [
    "def set_diag_to_value(matrix, value):\n",
    "    np.fill_diagonal(matrix, value)\n",
    "    return matrix"
   ]
  },
  {
   "cell_type": "code",
   "execution_count": 24,
   "metadata": {
    "collapsed": false
   },
   "outputs": [],
   "source": [
    "def binarize(matrix, thres=0):\n",
    "    copy.copy(matrix)\n",
    "    matrix[matrix <= thres] = 0\n",
    "    matrix[matrix > thres] = 1    \n",
    "    return matrix"
   ]
  },
  {
   "cell_type": "code",
   "execution_count": 25,
   "metadata": {
    "collapsed": true
   },
   "outputs": [],
   "source": [
    "def demean(d): return d-d.mean(0) \n",
    "def zscore(d): return (d-d.mean(0))/d.std(0)"
   ]
  },
  {
   "cell_type": "code",
   "execution_count": 87,
   "metadata": {
    "collapsed": true
   },
   "outputs": [],
   "source": [
    "#test proportion is computed as total-train\n",
    "def shuffle_nodes (vector_1d, trainProportion, valiProportion):\n",
    "    total_num=len(vector_1d)\n",
    "    train_num=int(trainProportion*total_num)\n",
    "    vali_num=int(valiProportion*total_num)\n",
    "    test_num=total_num-train_num-vali_num\n",
    "    if test_num<=0:\n",
    "        print \"Nothing in the test set!!!\"\n",
    "    print \"Training set: \"+str(train_num)\n",
    "    print \"Validation set: \"+str(vali_num)\n",
    "    print \"Test set: \"+str(test_num)\n",
    "    #decide the random split of nodes\n",
    "    nodes=[i for i in range(len(vector_1d))]\n",
    "    shuffled_nodes=copy.copy(nodes)\n",
    "    random.shuffle(shuffled_nodes)\n",
    "    train_nodes=np.array(shuffled_nodes[:train_num])\n",
    "    vali_nodes=np.array(shuffled_nodes[train_num:train_num+vali_num])\n",
    "    test_nodes=np.array(shuffled_nodes[train_num+vali_num:])\n",
    "    return train_nodes, vali_nodes, test_nodes\n",
    "# shuffle and split nodes \n",
    "def train_vali_test(data_3d, labels_1d, indx_2d, trainProportion, valiProportion):\n",
    "    train_nodes, vali_nodes, test_nodes = shuffle_nodes(labels_1d, trainProportion, valiProportion)\n",
    "    train_set=data_3d[train_nodes, :, :]\n",
    "    vali_set=data_3d[vali_nodes, :, :]\n",
    "    test_set=data_3d[test_nodes, :, :]\n",
    "    labels_train=labels_1d[train_nodes]\n",
    "    labels_vali=labels_1d[vali_nodes]\n",
    "    labels_test=labels_1d[test_nodes]\n",
    "    indx_train=indx_2d[train_nodes,:]\n",
    "    indx_vali=indx_2d[vali_nodes,:]\n",
    "    indx_test=indx_2d[test_nodes,:]\n",
    "    \n",
    "    #train_by_train=PPMatrix[shuffled_nodes[0]][:,shuffled_nodes[0]]\n",
    "    #print \"Train by train:\", np.shape(train_by_train), \"Test by train:\", np.shape(test_by_train), \"Test by test:\", np.shape(test_by_test), \"All by train:\", np.shape(all_by_train), \"All by all:\", np.shape(all_by_all) \n",
    "    return train_set, vali_set, test_set, labels_train, labels_vali, labels_test, indx_train, indx_vali,  indx_test"
   ]
  },
  {
   "cell_type": "code",
   "execution_count": 27,
   "metadata": {
    "collapsed": true
   },
   "outputs": [],
   "source": [
    "def build_distance_for_node(PromoterFile): \n",
    "    REsiteMids=[]\n",
    "    for line in open(PromoterFile,'r'):\n",
    "        words=line.rstrip().split()\n",
    "        if words[0] in ['chr1']: # only chr1\n",
    "            REsiteMids.append((int(words[2])+int(words[1]))/2)\n",
    "    return np.array((REsiteMids))"
   ]
  },
  {
   "cell_type": "code",
   "execution_count": 28,
   "metadata": {
    "collapsed": false
   },
   "outputs": [
    {
     "name": "stdout",
     "output_type": "stream",
     "text": [
      "Some tests on adjacency matrix:\n",
      "Adjacency matrix is symmetric\n",
      "Average q-value with zeros:  0.013635616418\n",
      "Average q-value w/o zeros:  1.58521764289\n"
     ]
    },
    {
     "data": {
      "image/png": "[encoded data removed]",
      "text/plain": [
       "<matplotlib.figure.Figure at 0x4e2e550>"
      ]
     },
     "metadata": {},
     "output_type": "display_data"
    }
   ],
   "source": [
    "CaptureC = BuildMatrixA(PromoterFile, InteractionsFileCaptureC, 'CaptureC')"
   ]
  },
  {
   "cell_type": "code",
   "execution_count": 29,
   "metadata": {
    "collapsed": false
   },
   "outputs": [],
   "source": [
    "CaptureC_labels=binarize(set_diag_to_value(CaptureC, CaptureC.max()))"
   ]
  },
  {
   "cell_type": "code",
   "execution_count": 30,
   "metadata": {
    "collapsed": false,
    "scrolled": true
   },
   "outputs": [
    {
     "name": "stdout",
     "output_type": "stream",
     "text": [
      "1.0\n",
      "(2272, 2272)\n",
      "Limit: 1.0\n"
     ]
    },
    {
     "data": {
      "image/png": "[encoded data removed]",
      "text/plain": [
       "<matplotlib.figure.Figure at 0x7f92510>"
      ]
     },
     "metadata": {},
     "output_type": "display_data"
    }
   ],
   "source": [
    "printMatrix(CaptureC_labels, '', 1, 1, title='')"
   ]
  },
  {
   "cell_type": "code",
   "execution_count": 31,
   "metadata": {
    "collapsed": false
   },
   "outputs": [
    {
     "name": "stdout",
     "output_type": "stream",
     "text": [
      "1.0\n",
      "(100, 100)\n",
      "Limit: 1.0\n"
     ]
    },
    {
     "data": {
      "image/png": "[encoded data removed]",
      "text/plain": [
       "<matplotlib.figure.Figure at 0x7f91e10>"
      ]
     },
     "metadata": {},
     "output_type": "display_data"
    }
   ],
   "source": [
    "subset=CaptureC_labels[[i for i in range(100)]][:, [i for i in range(100)]]\n",
    "printMatrix(subset, '', 1, i, title='')"
   ]
  },
  {
   "cell_type": "code",
   "execution_count": 32,
   "metadata": {
    "collapsed": false
   },
   "outputs": [
    {
     "name": "stdout",
     "output_type": "stream",
     "text": [
      "Average value with zeros:  21.9245984551\n",
      "Average q-value w/o zeros:  33.3418257631\n"
     ]
    },
    {
     "data": {
      "image/png": "[encoded data removed]",
      "text/plain": [
       "<matplotlib.figure.Figure at 0x53e7d50>"
      ]
     },
     "metadata": {},
     "output_type": "display_data"
    },
    {
     "name": "stdout",
     "output_type": "stream",
     "text": [
      "Average value with zeros:  30.8321433979\n",
      "Average q-value w/o zeros:  63.798387796\n"
     ]
    },
    {
     "data": {
      "image/png": "[encoded data removed]",
      "text/plain": [
       "<matplotlib.figure.Figure at 0x950a2d0>"
      ]
     },
     "metadata": {},
     "output_type": "display_data"
    },
    {
     "name": "stdout",
     "output_type": "stream",
     "text": [
      "Average value with zeros:  18.2601188732\n",
      "Average q-value w/o zeros:  35.2780527891\n"
     ]
    },
    {
     "data": {
      "image/png": "[encoded data removed]",
      "text/plain": [
       "<matplotlib.figure.Figure at 0x9626b10>"
      ]
     },
     "metadata": {},
     "output_type": "display_data"
    },
    {
     "name": "stdout",
     "output_type": "stream",
     "text": [
      "Average value with zeros:  6.97454184859\n",
      "Average q-value w/o zeros:  17.6657291862\n"
     ]
    },
    {
     "data": {
      "image/png": "[encoded data removed]",
      "text/plain": [
       "<matplotlib.figure.Figure at 0x975c450>"
      ]
     },
     "metadata": {},
     "output_type": "display_data"
    },
    {
     "name": "stdout",
     "output_type": "stream",
     "text": [
      "Average value with zeros:  0.828355180458\n",
      "Average q-value w/o zeros:  9.04818735577\n"
     ]
    },
    {
     "data": {
      "image/png": "[encoded data removed]",
      "text/plain": [
       "<matplotlib.figure.Figure at 0x95eed90>"
      ]
     },
     "metadata": {},
     "output_type": "display_data"
    },
    {
     "name": "stdout",
     "output_type": "stream",
     "text": [
      "Average value with zeros:  29.1659232835\n",
      "Average q-value w/o zeros:  55.7316885618\n"
     ]
    },
    {
     "data": {
      "image/png": "[encoded data removed]",
      "text/plain": [
       "<matplotlib.figure.Figure at 0x9567d10>"
      ]
     },
     "metadata": {},
     "output_type": "display_data"
    },
    {
     "name": "stdout",
     "output_type": "stream",
     "text": [
      "Average value with zeros:  3.3275984419\n",
      "Average q-value w/o zeros:  16.0175925\n"
     ]
    },
    {
     "data": {
      "image/png": "[encoded data removed]",
      "text/plain": [
       "<matplotlib.figure.Figure at 0x7f923d0>"
      ]
     },
     "metadata": {},
     "output_type": "display_data"
    },
    {
     "name": "stdout",
     "output_type": "stream",
     "text": [
      "Average value with zeros:  10.5938546083\n",
      "Average q-value w/o zeros:  15.7418166579\n"
     ]
    },
    {
     "data": {
      "image/png": "[encoded data removed]",
      "text/plain": [
       "<matplotlib.figure.Figure at 0x7f92a50>"
      ]
     },
     "metadata": {},
     "output_type": "display_data"
    },
    {
     "name": "stdout",
     "output_type": "stream",
     "text": [
      "Average value with zeros:  105.891611549\n",
      "Average q-value w/o zeros:  179.809971181\n"
     ]
    },
    {
     "data": {
      "image/png": "[encoded data removed]",
      "text/plain": [
       "<matplotlib.figure.Figure at 0x4e2e2d0>"
      ]
     },
     "metadata": {},
     "output_type": "display_data"
    },
    {
     "name": "stdout",
     "output_type": "stream",
     "text": [
      "Average value with zeros:  16.4996693574\n",
      "Average q-value w/o zeros:  30.6268372386\n"
     ]
    },
    {
     "data": {
      "image/png": "[encoded data removed]",
      "text/plain": [
       "<matplotlib.figure.Figure at 0xeaace10>"
      ]
     },
     "metadata": {},
     "output_type": "display_data"
    }
   ],
   "source": [
    "VectorATAC=BuildFeatureVector(PromoterFile, atac, 'atac')\n",
    "\n",
    "VectorCTCF=BuildFeatureVector(PromoterFile, ctcf, 'ctcf')\n",
    "VectorPOL3=BuildFeatureVector(PromoterFile, pol3, 'pol3')\n",
    "VectorTP63=BuildFeatureVector(PromoterFile, TP63, 'TP63')\n",
    "VectorLSD1=BuildFeatureVector(PromoterFile, LSD1, 'LSD1')\n",
    "\n",
    "VectorH3K27ac=BuildFeatureVector(PromoterFile, H3K27ac, 'H3K27ac')\n",
    "VectorH3K27me3=BuildFeatureVector(PromoterFile, H3K27me3, 'H3K27me3')\n",
    "VectorH3K4me1=BuildFeatureVector(PromoterFile, H3K4me1, 'H3K4me1')\n",
    "VectorH3K4me3=BuildFeatureVector(PromoterFile, H3K4me3, 'H3K4me3')\n",
    "VectorH3K9ac=BuildFeatureVector(PromoterFile, H3K9ac, 'H3K9ac')"
   ]
  },
  {
   "cell_type": "code",
   "execution_count": 33,
   "metadata": {
    "collapsed": false
   },
   "outputs": [],
   "source": [
    "distance_for_node=build_distance_for_node(PromoterFile)"
   ]
  },
  {
   "cell_type": "code",
   "execution_count": 34,
   "metadata": {
    "collapsed": true
   },
   "outputs": [],
   "source": [
    "FeatureVector = np.vstack((VectorATAC, VectorCTCF, VectorPOL3, VectorTP63, VectorLSD1, VectorH3K27ac, VectorH3K27me3, VectorH3K4me1, VectorH3K4me3, VectorH3K9ac)).T\n",
    "FeatureVectorDistance = np.vstack((VectorATAC, VectorCTCF, VectorPOL3, VectorTP63, VectorLSD1, VectorH3K27ac, VectorH3K27me3, VectorH3K4me1, VectorH3K4me3, VectorH3K9ac, distance_for_node)).T"
   ]
  },
  {
   "cell_type": "code",
   "execution_count": 35,
   "metadata": {
    "collapsed": false
   },
   "outputs": [
    {
     "data": {
      "image/png": "[encoded data removed]",
      "text/plain": [
       "<matplotlib.figure.Figure at 0x7f91c90>"
      ]
     },
     "metadata": {},
     "output_type": "display_data"
    }
   ],
   "source": [
    "fig, ax = plt.subplots()\n",
    "heatmap = ax.pcolor(FeatureVector, cmap=plt.cm.Blues)\n",
    "#heatmap = ax.pcolor(DistanceFeatureVectorK, cmap=plt.cm.Blues)"
   ]
  },
  {
   "cell_type": "code",
   "execution_count": 36,
   "metadata": {
    "collapsed": false
   },
   "outputs": [
    {
     "data": {
      "image/png": "[encoded data removed]",
      "text/plain": [
       "<matplotlib.figure.Figure at 0x7faa510>"
      ]
     },
     "metadata": {},
     "output_type": "display_data"
    }
   ],
   "source": [
    "fig, ax = plt.subplots()\n",
    "heatmap = ax.pcolor(FeatureVectorDistance, cmap=plt.cm.Blues)\n",
    "#heatmap = ax.pcolor(DistanceFeatureVectorK, cmap=plt.cm.Blues)"
   ]
  },
  {
   "cell_type": "markdown",
   "metadata": {},
   "source": [
    "# All Data"
   ]
  },
  {
   "cell_type": "code",
   "execution_count": 88,
   "metadata": {
    "collapsed": false
   },
   "outputs": [],
   "source": [
    "NumberOfNodes=CaptureC_labels.shape[0]\n",
    "labels_all=np.zeros((NumberOfNodes**2,1))\n",
    "indx_all=np.zeros((NumberOfNodes**2,2))\n",
    "data_all=np.zeros((NumberOfNodes**2,11,2))\n",
    "k1=0\n",
    "for i in range(NumberOfNodes):\n",
    "    for j in range(NumberOfNodes):\n",
    "        labels_all[k1]=CaptureC_labels[i][j]\n",
    "        data_all[k1,:,0]=FeatureVectorDistance[i,:]\n",
    "        data_all[k1,:,1]=FeatureVectorDistance[j,:]\n",
    "        indx_all[k1,0]=int(i)\n",
    "        indx_all[k1,1]=int(j)\n",
    "        k1+=1"
   ]
  },
  {
   "cell_type": "code",
   "execution_count": 92,
   "metadata": {
    "collapsed": false
   },
   "outputs": [
    {
     "name": "stdout",
     "output_type": "stream",
     "text": [
      "Training set: 2580992\n",
      "Validation set: 1548595\n",
      "Test set: 1032397\n"
     ]
    }
   ],
   "source": [
    "train_set_all, vali_set_all, test_set_all, labels_train_all, labels_vali_all, labels_test_all,  indx_train_all, indx_vali_all,  indx_test_all =train_vali_test(data_all, labels_all, indx_all, 0.5, 0.3)"
   ]
  },
  {
   "cell_type": "code",
   "execution_count": 94,
   "metadata": {
    "collapsed": false
   },
   "outputs": [
    {
     "name": "stdout",
     "output_type": "stream",
     "text": [
      "(5161984, 1)\n",
      "(5161984, 2)\n",
      "(5161984, 11, 2)\n",
      "(2580992, 1)\n",
      "(2580992, 2)\n",
      "(2580992, 11, 2)\n"
     ]
    }
   ],
   "source": [
    "print labels_all.shape\n",
    "print indx_all.shape\n",
    "print data_all.shape\n",
    "print labels_train_all.shape\n",
    "print indx_train_all.shape\n",
    "print train_set_all.shape"
   ]
  },
  {
   "cell_type": "markdown",
   "metadata": {},
   "source": [
    "# Upper Triangle"
   ]
  },
  {
   "cell_type": "code",
   "execution_count": 95,
   "metadata": {
    "collapsed": false
   },
   "outputs": [],
   "source": [
    "NumberOfNodes=CaptureC_labels.shape[0]\n",
    "labels_upperTriangle=np.zeros(((NumberOfNodes**2+NumberOfNodes)/2))\n",
    "indx_upperTriangle=np.zeros(((NumberOfNodes**2+NumberOfNodes)/2,2))\n",
    "data_upperTriangle=np.zeros(((NumberOfNodes**2+NumberOfNodes)/2,11,2))\n",
    "k1=0\n",
    "for i in range(NumberOfNodes):\n",
    "    for j in range(i+1):\n",
    "        labels_upperTriangle[k1]=CaptureC_labels[i][j]\n",
    "        data_upperTriangle[k1,:,0]=FeatureVectorDistance[i,:]\n",
    "        data_upperTriangle[k1,:,1]=FeatureVectorDistance[j,:]\n",
    "        indx_upperTriangle[k1,0]=int(i)\n",
    "        indx_upperTriangle[k1,1]=int(j)\n",
    "        k1+=1"
   ]
  },
  {
   "cell_type": "code",
   "execution_count": 97,
   "metadata": {
    "collapsed": false
   },
   "outputs": [
    {
     "name": "stdout",
     "output_type": "stream",
     "text": [
      "Training set: 1291064\n",
      "Validation set: 774638\n",
      "Test set: 516426\n"
     ]
    }
   ],
   "source": [
    "train_set_upperTriangle, vali_set_upperTriangle, test_set_upperTriangle, labels_train_upperTriangle, labels_vali_upperTriangle, labels_test_upperTriangle, indx_train_upperTriangle, indx_vali_upperTriangle,  indx_test_upperTriangle = train_vali_test(data_upperTriangle, labels_upperTriangle, indx_upperTriangle, 0.5, 0.3)"
   ]
  },
  {
   "cell_type": "code",
   "execution_count": 98,
   "metadata": {
    "collapsed": false
   },
   "outputs": [
    {
     "name": "stdout",
     "output_type": "stream",
     "text": [
      "(2582128,)\n",
      "(2582128, 2)\n",
      "(2582128, 11, 2)\n",
      "(1291064,)\n",
      "(1291064, 2)\n",
      "(1291064, 11, 2)\n"
     ]
    }
   ],
   "source": [
    "print labels_upperTriangle.shape\n",
    "print indx_upperTriangle.shape\n",
    "print data_upperTriangle.shape\n",
    "print labels_train_upperTriangle.shape\n",
    "print indx_train_upperTriangle.shape\n",
    "print train_set_upperTriangle.shape"
   ]
  },
  {
   "cell_type": "markdown",
   "metadata": {},
   "source": [
    "# Upper Triangle without Diagonal"
   ]
  },
  {
   "cell_type": "code",
   "execution_count": 99,
   "metadata": {
    "collapsed": true
   },
   "outputs": [],
   "source": [
    "NumberOfNodes=CaptureC_labels.shape[0]\n",
    "labels_upperTriangle_noDiag=np.zeros(((NumberOfNodes**2-NumberOfNodes)/2))\n",
    "indx_upperTriangle_noDiag=np.zeros(((NumberOfNodes**2-NumberOfNodes)/2,2))\n",
    "data_upperTriangle_noDiag=np.zeros(((NumberOfNodes**2-NumberOfNodes)/2,11,2))\n",
    "k1=0\n",
    "for i in range(NumberOfNodes):\n",
    "    for j in range(i+1):\n",
    "        if i!=j:\n",
    "            labels_upperTriangle_noDiag[k1]=CaptureC_labels[i][j]\n",
    "            data_upperTriangle_noDiag[k1,:,0]=FeatureVectorDistance[i,:]\n",
    "            data_upperTriangle_noDiag[k1,:,1]=FeatureVectorDistance[j,:]\n",
    "            indx_upperTriangle_noDiag[k1,0]=int(i)\n",
    "            indx_upperTriangle_noDiag[k1,1]=int(j)\n",
    "            k1+=1"
   ]
  },
  {
   "cell_type": "code",
   "execution_count": 100,
   "metadata": {
    "collapsed": false
   },
   "outputs": [
    {
     "name": "stdout",
     "output_type": "stream",
     "text": [
      "Training set: 1289928\n",
      "Validation set: 773956\n",
      "Test set: 515972\n"
     ]
    }
   ],
   "source": [
    "train_set_upperTriangle_noDiag, vali_set_upperTriangle_noDiag, test_set_upperTriangle_noDiag, labels_train_upperTriangle_noDiag, labels_vali_upperTriangle_noDiag, labels_test_upperTriangle_noDiag, indx_train_upperTriangle_noDiag, indx_vali_upperTriangle_noDiag,  indx_test_upperTriangle_noDiag =train_vali_test(data_upperTriangle_noDiag, labels_upperTriangle_noDiag, indx_upperTriangle_noDiag, 0.5, 0.3)"
   ]
  },
  {
   "cell_type": "code",
   "execution_count": 103,
   "metadata": {
    "collapsed": false
   },
   "outputs": [
    {
     "name": "stdout",
     "output_type": "stream",
     "text": [
      "11154\n",
      "1278774\n",
      "12291\n",
      "1278773\n",
      "23360\n",
      "2557632\n"
     ]
    }
   ],
   "source": [
    "print np.sum(labels_train_upperTriangle_noDiag==1)\n",
    "print np.sum(labels_train_upperTriangle_noDiag==0)\n",
    "print np.sum(labels_train_upperTriangle==1)\n",
    "print np.sum(labels_train_upperTriangle==0)\n",
    "print np.sum(labels_train_all==1)\n",
    "print np.sum(labels_train_all==0)"
   ]
  },
  {
   "cell_type": "code",
   "execution_count": 46,
   "metadata": {
    "collapsed": false
   },
   "outputs": [],
   "source": [
    "#np.save('train_set_all_thres2_mean.npy', train_set_all) \n",
    "#np.save('vali_set_all_thres2_mean.npy', vali_set_all) \n",
    "#np.save('test_set_all_thres2_mean.npy', test_set_all) \n",
    "#np.save('labels_train_all_thres2_mean.npy', labels_train_all)\n",
    "#np.save('labels_vali_all_thres2_mean.npy', labels_vali_all)\n",
    "#np.save('labels_test_all_thres2_mean.npy', labels_test_all)\n",
    "\n",
    "#np.save('train_set_upperTriangle.npy', train_set_upperTriangle) \n",
    "#np.save('vali_set_upperTriangle.npy', vali_set_upperTriangle) \n",
    "#np.save('test_set_upperTriangle.npy', test_set_upperTriangle) \n",
    "#np.save('labels_train_upperTriangle.npy', labels_train_upperTriangle)\n",
    "#np.save('labels_vali_upperTriangle.npy', labels_vali_upperTriangle)\n",
    "#np.save('labels_test_upperTriangle.npy', labels_test_upperTriangle)\n",
    "#d = np.load('labels_test_all.npy')"
   ]
  },
  {
   "cell_type": "code",
   "execution_count": null,
   "metadata": {
    "collapsed": true
   },
   "outputs": [],
   "source": []
  }
 ],
 "metadata": {
  "kernelspec": {
   "display_name": "Python 2",
   "language": "python",
   "name": "python2"
  },
  "language_info": {
   "codemirror_mode": {
    "name": "ipython",
    "version": 2
   },
   "file_extension": ".py",
   "mimetype": "text/x-python",
   "name": "python",
   "nbconvert_exporter": "python",
   "pygments_lexer": "ipython2",
   "version": "2.7.6"
  }
 },
 "nbformat": 4,
 "nbformat_minor": 0
}
